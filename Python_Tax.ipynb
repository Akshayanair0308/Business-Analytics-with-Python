{
  "nbformat": 4,
  "nbformat_minor": 0,
  "metadata": {
    "colab": {
      "provenance": [],
      "authorship_tag": "ABX9TyPgwvgpvV0k3k07/ulVxJ8N",
      "include_colab_link": true
    },
    "kernelspec": {
      "name": "python3",
      "display_name": "Python 3"
    },
    "language_info": {
      "name": "python"
    }
  },
  "cells": [
    {
      "cell_type": "markdown",
      "metadata": {
        "id": "view-in-github",
        "colab_type": "text"
      },
      "source": [
        "<a href=\"https://colab.research.google.com/github/Akshayanair0308/Business-Analytics-with-Python/blob/main/Python_Tax.ipynb\" target=\"_parent\"><img src=\"https://colab.research.google.com/assets/colab-badge.svg\" alt=\"Open In Colab\"/></a>"
      ]
    },
    {
      "cell_type": "code",
      "execution_count": 6,
      "metadata": {
        "colab": {
          "base_uri": "https://localhost:8080/"
        },
        "id": "34Ju5KgVWG8C",
        "outputId": "e6d2437a-36fb-46df-ee0d-b0b7ae3ace81"
      },
      "outputs": [
        {
          "name": "stdout",
          "output_type": "stream",
          "text": [
            "Enter the first Number:10\n"
          ]
        }
      ],
      "source": [
        "a=int(input(\"Enter the first Number:\"))"
      ]
    },
    {
      "cell_type": "code",
      "source": [
        "b=int(input(\"Enter the second Number\"))"
      ],
      "metadata": {
        "id": "b9m6Dl0EWHmu",
        "colab": {
          "base_uri": "https://localhost:8080/"
        },
        "outputId": "0488c3a1-5a5d-4ece-8e5f-6c4bb617360c"
      },
      "execution_count": 7,
      "outputs": [
        {
          "name": "stdout",
          "output_type": "stream",
          "text": [
            "Enter the second Number20\n"
          ]
        }
      ]
    },
    {
      "cell_type": "code",
      "source": [
        "print (a+b)"
      ],
      "metadata": {
        "colab": {
          "base_uri": "https://localhost:8080/"
        },
        "id": "OmFGmRuVtlr3",
        "outputId": "4e4bb1e6-252e-489f-a77c-d2381205003c"
      },
      "execution_count": 8,
      "outputs": [
        {
          "output_type": "stream",
          "name": "stdout",
          "text": [
            "30\n"
          ]
        }
      ]
    },
    {
      "cell_type": "code",
      "source": [
        "print (a-b)"
      ],
      "metadata": {
        "colab": {
          "base_uri": "https://localhost:8080/"
        },
        "id": "DUv95_v0ubVm",
        "outputId": "062caa7b-dee9-4aac-a256-6e10470055db"
      },
      "execution_count": 9,
      "outputs": [
        {
          "output_type": "stream",
          "name": "stdout",
          "text": [
            "-10\n"
          ]
        }
      ]
    },
    {
      "cell_type": "code",
      "source": [
        "print(a*b)"
      ],
      "metadata": {
        "colab": {
          "base_uri": "https://localhost:8080/"
        },
        "id": "a841f-4iutsV",
        "outputId": "74c23f56-7895-4f80-f9b8-39a8a613202c"
      },
      "execution_count": 10,
      "outputs": [
        {
          "output_type": "stream",
          "name": "stdout",
          "text": [
            "200\n"
          ]
        }
      ]
    },
    {
      "cell_type": "code",
      "source": [
        "print(a/b)"
      ],
      "metadata": {
        "colab": {
          "base_uri": "https://localhost:8080/"
        },
        "id": "B501fdUUuwns",
        "outputId": "8d67fde9-d19c-4668-8843-b011779afda5"
      },
      "execution_count": 11,
      "outputs": [
        {
          "output_type": "stream",
          "name": "stdout",
          "text": [
            "0.5\n"
          ]
        }
      ]
    },
    {
      "cell_type": "code",
      "source": [
        "p=int(input(\"Enter the principal amount:\"))"
      ],
      "metadata": {
        "colab": {
          "base_uri": "https://localhost:8080/"
        },
        "id": "4vheWYzSuz9V",
        "outputId": "f4949d90-d0de-4292-eae8-56aff4479ef2"
      },
      "execution_count": 13,
      "outputs": [
        {
          "name": "stdout",
          "output_type": "stream",
          "text": [
            "Enter the principal amount:100000\n"
          ]
        }
      ]
    },
    {
      "cell_type": "code",
      "source": [
        "n=int(input(\"Enter the rate of interest:\"))/100"
      ],
      "metadata": {
        "colab": {
          "base_uri": "https://localhost:8080/"
        },
        "id": "ohCOalmSvXbU",
        "outputId": "aeca014b-7c5c-4e08-e012-33a2ef48daf5"
      },
      "execution_count": 19,
      "outputs": [
        {
          "name": "stdout",
          "output_type": "stream",
          "text": [
            "Enter the rate of interest:8\n"
          ]
        }
      ]
    },
    {
      "cell_type": "code",
      "source": [
        "r=int(input(\"Enter the number of years:\"))"
      ],
      "metadata": {
        "colab": {
          "base_uri": "https://localhost:8080/"
        },
        "id": "lvFMDUAxvon2",
        "outputId": "5376a2fd-f7f5-45c5-adce-91e0cf3e35b2"
      },
      "execution_count": 16,
      "outputs": [
        {
          "name": "stdout",
          "output_type": "stream",
          "text": [
            "Enter the number of years:5\n"
          ]
        }
      ]
    },
    {
      "cell_type": "code",
      "source": [
        "i=p*r*n"
      ],
      "metadata": {
        "id": "W7BoSiHKv-GP"
      },
      "execution_count": 21,
      "outputs": []
    },
    {
      "cell_type": "code",
      "source": [
        "print(i)"
      ],
      "metadata": {
        "colab": {
          "base_uri": "https://localhost:8080/"
        },
        "id": "w4QQ4ddiwDpV",
        "outputId": "da863df9-ec28-4c94-b69f-b3cc974bdf82"
      },
      "execution_count": 22,
      "outputs": [
        {
          "output_type": "stream",
          "name": "stdout",
          "text": [
            "40000.0\n"
          ]
        }
      ]
    },
    {
      "cell_type": "code",
      "source": [
        "x=int(input(\"Enter a Number: \"))"
      ],
      "metadata": {
        "colab": {
          "base_uri": "https://localhost:8080/"
        },
        "id": "YeoXI2WFwJ8q",
        "outputId": "ca80b6a3-700b-4779-c790-d2220d47b472"
      },
      "execution_count": 23,
      "outputs": [
        {
          "name": "stdout",
          "output_type": "stream",
          "text": [
            "Enter a Number: 100\n"
          ]
        }
      ]
    },
    {
      "cell_type": "code",
      "source": [
        "if x>50:\n",
        "     print(\"You Passed\")\n",
        "else:\n",
        "     print(\"You Failed\")"
      ],
      "metadata": {
        "colab": {
          "base_uri": "https://localhost:8080/"
        },
        "id": "KKP6uM-Axmu6",
        "outputId": "9140725f-4a3f-4519-d8d4-4cd3bd8cc842"
      },
      "execution_count": 25,
      "outputs": [
        {
          "output_type": "stream",
          "name": "stdout",
          "text": [
            "You Passed\n"
          ]
        }
      ]
    },
    {
      "cell_type": "code",
      "source": [
        "sal=int(input(\"Enter your Salary:\"))\n",
        "if sal>250000:\n",
        "   print(\"You are Taxable\")\n",
        "   t= sal*10/100\n",
        "   print(\"Your tax is\", t)\n",
        "else:\n",
        "   print(\"You are not taxable\")"
      ],
      "metadata": {
        "colab": {
          "base_uri": "https://localhost:8080/"
        },
        "id": "8xGPspo8x8Um",
        "outputId": "61e704eb-0b88-434a-e726-4b5fcdbd0146"
      },
      "execution_count": 39,
      "outputs": [
        {
          "output_type": "stream",
          "name": "stdout",
          "text": [
            "Enter your Salary:500000\n",
            "You are Taxable\n",
            "Your tax is 50000.0\n"
          ]
        }
      ]
    },
    {
      "cell_type": "code",
      "source": [
        "sal=int(input(\"Enter your salary: \"))\n",
        "if sal>250000:\n",
        "    print(\"You are taxable\")\n",
        "    t=sal-250000\n",
        "    tax=t*10/100\n",
        "    print(\"Your tax =\",tax)\n",
        "else:\n",
        "    print(\"You are not taxable\")"
      ],
      "metadata": {
        "colab": {
          "base_uri": "https://localhost:8080/"
        },
        "id": "76HCEN8myScS",
        "outputId": "43b1cffb-5f18-4df0-9625-a5777317ee07"
      },
      "execution_count": 40,
      "outputs": [
        {
          "output_type": "stream",
          "name": "stdout",
          "text": [
            "Enter your salary: 500000\n",
            "You are taxable\n",
            "Your tax = 25000.0\n"
          ]
        }
      ]
    },
    {
      "cell_type": "code",
      "source": [
        "sal=int(input(\"Enter your salary: \"))\n",
        "if sal>250000:\n",
        "    print(\"You are taxable\")\n",
        "    if sal<500000:\n",
        "        t=sal-250000\n",
        "        tax=t*10/100\n",
        "        print(\"Your tax =\",tax)\n",
        "    else:\n",
        "        tax=sal*20/100\n",
        "        print(\"Your tax =\",tax)\n",
        "else:\n",
        "    print(\"You are not taxable\")"
      ],
      "metadata": {
        "colab": {
          "base_uri": "https://localhost:8080/"
        },
        "id": "PPIVicIj3yVs",
        "outputId": "12f03ee7-f19e-4325-fac6-1a5a716ce203"
      },
      "execution_count": 41,
      "outputs": [
        {
          "output_type": "stream",
          "name": "stdout",
          "text": [
            "Enter your salary: 500000\n",
            "You are taxable\n",
            "Your tax = 100000.0\n"
          ]
        }
      ]
    }
  ]
}