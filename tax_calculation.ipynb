{
  "nbformat": 4,
  "nbformat_minor": 0,
  "metadata": {
    "colab": {
      "provenance": [],
      "authorship_tag": "ABX9TyOJNzLajgOW+E0d7mvPj4FU",
      "include_colab_link": true
    },
    "kernelspec": {
      "name": "python3",
      "display_name": "Python 3"
    },
    "language_info": {
      "name": "python"
    }
  },
  "cells": [
    {
      "cell_type": "markdown",
      "metadata": {
        "id": "view-in-github",
        "colab_type": "text"
      },
      "source": [
        "<a href=\"https://colab.research.google.com/github/Akshayanair0308/Business-Analytics-with-Python/blob/main/tax_calculation.ipynb\" target=\"_parent\"><img src=\"https://colab.research.google.com/assets/colab-badge.svg\" alt=\"Open In Colab\"/></a>"
      ]
    },
    {
      "cell_type": "code",
      "execution_count": null,
      "metadata": {
        "colab": {
          "base_uri": "https://localhost:8080/"
        },
        "id": "ESxMkU5Cc9C7",
        "outputId": "16212bcd-fcbc-4d85-cf25-8f0a0057693d"
      },
      "outputs": [
        {
          "name": "stdout",
          "output_type": "stream",
          "text": [
            "Enter your salary:500000\n"
          ]
        }
      ],
      "source": [
        "s=int(input(\"Enter your salary:\"))\n",
        "if s>250000 and s<500000:\n",
        "  q=s-250000\n",
        "  t1=q*5/100\n",
        "  print(\"Tax to be paid is Rs.\",t1)\n",
        "elif s>500000 and s<750000:\n",
        "  q=s-500000\n",
        "  t1=q*10/100\n",
        "  w=500000-250000\n",
        "  t2=w*5/100\n",
        "  tax=t1+t2\n",
        "  print(\"Tax to be paid is Rs.\",tax)\n",
        "elif s>750000 and s<1000000:\n",
        "  q=s-750000\n",
        "  t1=q*20/100\n",
        "  w=500000-250000\n",
        "  t2=w*5/100\n",
        "  e=750000-500000\n",
        "  t3=e*10/100\n",
        "  tax=t1+t2+t3\n",
        "  print(\"Tax to be paid is Rs.\",tax)\n",
        "elif s>1000000:\n",
        "  q=s-1000000\n",
        "  t1=q*30/100\n",
        "  w=500000-250000\n",
        "  t2=w*5/100\n",
        "  e=750000-500000\n",
        "  t3=e*10/100\n",
        "  r=1000000-750000\n",
        "  t4=r*20/100\n",
        "  tax=t1+t2+t3+t4\n",
        "  print(\"Tax to be paid is Rs.\",tax)"
      ]
    },
    {
      "cell_type": "code",
      "source": [],
      "metadata": {
        "id": "Fed4Lxv5ft1Q"
      },
      "execution_count": null,
      "outputs": []
    }
  ]
}