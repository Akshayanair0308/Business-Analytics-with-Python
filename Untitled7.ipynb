{
  "nbformat": 4,
  "nbformat_minor": 0,
  "metadata": {
    "colab": {
      "provenance": [],
      "authorship_tag": "ABX9TyMn0awaODZMoYZwWyF1n/6O",
      "include_colab_link": true
    },
    "kernelspec": {
      "name": "python3",
      "display_name": "Python 3"
    },
    "language_info": {
      "name": "python"
    }
  },
  "cells": [
    {
      "cell_type": "markdown",
      "metadata": {
        "id": "view-in-github",
        "colab_type": "text"
      },
      "source": [
        "<a href=\"https://colab.research.google.com/github/Akshayanair0308/Business-Analytics-with-Python/blob/main/Untitled7.ipynb\" target=\"_parent\"><img src=\"https://colab.research.google.com/assets/colab-badge.svg\" alt=\"Open In Colab\"/></a>"
      ]
    },
    {
      "cell_type": "code",
      "execution_count": null,
      "metadata": {
        "colab": {
          "base_uri": "https://localhost:8080/"
        },
        "id": "HtnGdtaYIPwD",
        "outputId": "cf1616e9-0686-4e47-d392-6bdc1034649e"
      },
      "outputs": [
        {
          "output_type": "stream",
          "name": "stdout",
          "text": [
            "False\n",
            "True\n"
          ]
        }
      ],
      "source": [
        "x=2\n",
        "y=5\n",
        "print(x is y)\n",
        "print (x is not y)"
      ]
    },
    {
      "cell_type": "code",
      "source": [
        "x = 2\n",
        "y = 5\n",
        "print (x<2 and x<10)\n",
        "print(not(x<2 and x<10))"
      ],
      "metadata": {
        "colab": {
          "base_uri": "https://localhost:8080/"
        },
        "id": "GYIkHLGOIZL8",
        "outputId": "c17e5561-6cb9-4d95-8556-72a4e1c7814e"
      },
      "execution_count": null,
      "outputs": [
        {
          "output_type": "stream",
          "name": "stdout",
          "text": [
            "False\n",
            "True\n"
          ]
        }
      ]
    },
    {
      "cell_type": "code",
      "source": [
        "x = 2 \n",
        "y = 5\n",
        "print( (x+5)-y<(10+x)-y )"
      ],
      "metadata": {
        "colab": {
          "base_uri": "https://localhost:8080/"
        },
        "id": "PvbYnfqoItyd",
        "outputId": "fc5785a2-28e9-44b4-e20c-29394ff4a8dc"
      },
      "execution_count": null,
      "outputs": [
        {
          "output_type": "stream",
          "name": "stdout",
          "text": [
            "True\n"
          ]
        }
      ]
    },
    {
      "cell_type": "code",
      "source": [
        "x = 2\n",
        "y = 5\n",
        "z = 3\n",
        "print((x<y)<z)"
      ],
      "metadata": {
        "colab": {
          "base_uri": "https://localhost:8080/"
        },
        "id": "VpBvn5FkLUp-",
        "outputId": "086804c9-d2d0-4049-f9b9-566bf614d04f"
      },
      "execution_count": null,
      "outputs": [
        {
          "output_type": "stream",
          "name": "stdout",
          "text": [
            "True\n"
          ]
        }
      ]
    },
    {
      "cell_type": "code",
      "source": [
        "x = 10\n",
        "y = 4\n",
        "print(x+int(y))"
      ],
      "metadata": {
        "colab": {
          "base_uri": "https://localhost:8080/"
        },
        "id": "uuwiL2DyMSIE",
        "outputId": "e7950eb5-7b18-44ea-8245-db1213f98838"
      },
      "execution_count": null,
      "outputs": [
        {
          "output_type": "stream",
          "name": "stdout",
          "text": [
            "14\n"
          ]
        }
      ]
    },
    {
      "cell_type": "code",
      "source": [
        "x=10*(4+6)*10/100\n",
        "print(x)"
      ],
      "metadata": {
        "colab": {
          "base_uri": "https://localhost:8080/"
        },
        "id": "HBwnl4SZMsW0",
        "outputId": "e7bf7999-9519-438f-fffb-f4efe3e4b18a"
      },
      "execution_count": null,
      "outputs": [
        {
          "output_type": "stream",
          "name": "stdout",
          "text": [
            "10.0\n"
          ]
        }
      ]
    },
    {
      "cell_type": "code",
      "source": [
        "import math\n",
        "x=math.pi\n",
        "print(x)"
      ],
      "metadata": {
        "colab": {
          "base_uri": "https://localhost:8080/"
        },
        "id": "T389b4UIM9kD",
        "outputId": "744c999f-9920-4788-b0b4-092a0a490fd7"
      },
      "execution_count": null,
      "outputs": [
        {
          "output_type": "stream",
          "name": "stdout",
          "text": [
            "3.141592653589793\n"
          ]
        }
      ]
    },
    {
      "cell_type": "code",
      "source": [
        "import math as m\n",
        "x=m.pi\n",
        "print(x)"
      ],
      "metadata": {
        "colab": {
          "base_uri": "https://localhost:8080/"
        },
        "id": "dnFaz7lJONFR",
        "outputId": "73b4f410-e0c9-4bf6-fcaa-1a8ba201af87"
      },
      "execution_count": null,
      "outputs": [
        {
          "output_type": "stream",
          "name": "stdout",
          "text": [
            "3.141592653589793\n"
          ]
        }
      ]
    },
    {
      "cell_type": "code",
      "source": [
        "import math as don\n",
        "x=don.e\n",
        "print(x)"
      ],
      "metadata": {
        "colab": {
          "base_uri": "https://localhost:8080/"
        },
        "id": "UXVMe-H6OjyF",
        "outputId": "3296e228-9677-426a-c5ee-f599df6c2aac"
      },
      "execution_count": null,
      "outputs": [
        {
          "output_type": "stream",
          "name": "stdout",
          "text": [
            "2.718281828459045\n"
          ]
        }
      ]
    },
    {
      "cell_type": "code",
      "source": [
        "import math as m\n",
        "r=int(input(\"Enter the radius: \"))\n",
        "x=m.pi*r**2\n",
        "print(x)"
      ],
      "metadata": {
        "colab": {
          "base_uri": "https://localhost:8080/"
        },
        "id": "4TOnQzAlO97f",
        "outputId": "f993bac2-ea1c-4b1a-d040-06d04d756fb3"
      },
      "execution_count": null,
      "outputs": [
        {
          "output_type": "stream",
          "name": "stdout",
          "text": [
            "Enter the radius: 5\n",
            "78.53981633974483\n"
          ]
        }
      ]
    },
    {
      "cell_type": "code",
      "source": [
        "import math as m\n",
        "x=m.sin(30)\n",
        "print(x)"
      ],
      "metadata": {
        "colab": {
          "base_uri": "https://localhost:8080/"
        },
        "id": "YQ8Hauo0Pw7f",
        "outputId": "2983b85a-9cd3-467d-eea5-0d54e34e66ac"
      },
      "execution_count": null,
      "outputs": [
        {
          "output_type": "stream",
          "name": "stdout",
          "text": [
            "-0.9880316240928618\n"
          ]
        }
      ]
    },
    {
      "cell_type": "code",
      "source": [
        "import math as m\n",
        "x = m.pow(2,4)\n",
        "print(x)"
      ],
      "metadata": {
        "colab": {
          "base_uri": "https://localhost:8080/"
        },
        "id": "75vGF5SlQfjL",
        "outputId": "9599d739-f6ed-41d0-d32a-c5bc4f08419a"
      },
      "execution_count": null,
      "outputs": [
        {
          "output_type": "stream",
          "name": "stdout",
          "text": [
            "16.0\n"
          ]
        }
      ]
    },
    {
      "cell_type": "code",
      "source": [
        "import math as m\n",
        "x=m.sqrt(16)\n",
        "print(x)"
      ],
      "metadata": {
        "colab": {
          "base_uri": "https://localhost:8080/"
        },
        "id": "YixB6zoNQyVU",
        "outputId": "75aa337b-fbc1-4f4d-99db-db3920394da2"
      },
      "execution_count": null,
      "outputs": [
        {
          "output_type": "stream",
          "name": "stdout",
          "text": [
            "4.0\n"
          ]
        }
      ]
    },
    {
      "cell_type": "code",
      "source": [
        "import math as m\n",
        "x=min(5,10,15)\n",
        "y=max(5, 10, 15)\n",
        "print(x)\n",
        "print(y)"
      ],
      "metadata": {
        "colab": {
          "base_uri": "https://localhost:8080/"
        },
        "id": "G4JMnS-lRLjp",
        "outputId": "092e29cd-7d1b-42ae-a5c1-c60ac7fbe421"
      },
      "execution_count": null,
      "outputs": [
        {
          "output_type": "stream",
          "name": "stdout",
          "text": [
            "5\n",
            "15\n"
          ]
        }
      ]
    },
    {
      "cell_type": "code",
      "source": [
        "import statistics as st\n",
        "st.mean([2,5,6,9])\n"
      ],
      "metadata": {
        "colab": {
          "base_uri": "https://localhost:8080/"
        },
        "id": "7Ts8qNDFRcvi",
        "outputId": "db4facd5-a3a5-4476-b565-b542105b5017"
      },
      "execution_count": null,
      "outputs": [
        {
          "output_type": "execute_result",
          "data": {
            "text/plain": [
              "5.5"
            ]
          },
          "metadata": {},
          "execution_count": 27
        }
      ]
    },
    {
      "cell_type": "code",
      "source": [
        "import statistics as st\n",
        "print(st.stdev([2,3,5,7,9,11]))"
      ],
      "metadata": {
        "colab": {
          "base_uri": "https://localhost:8080/"
        },
        "id": "8qrIwxOsRzHZ",
        "outputId": "fbdb34af-0aea-4ca2-b3fd-9f711db99f03"
      },
      "execution_count": null,
      "outputs": [
        {
          "output_type": "stream",
          "name": "stdout",
          "text": [
            "3.488074922742725\n"
          ]
        }
      ]
    },
    {
      "cell_type": "code",
      "source": [
        "import statistics as st\n",
        "st.variance([2,2.5,5,3,7,5,2.8])"
      ],
      "metadata": {
        "colab": {
          "base_uri": "https://localhost:8080/"
        },
        "id": "xGyCZYrySLN6",
        "outputId": "b9d12403-7300-46ef-e106-22b4a7a9cc01"
      },
      "execution_count": null,
      "outputs": [
        {
          "output_type": "execute_result",
          "data": {
            "text/plain": [
              "3.27"
            ]
          },
          "metadata": {},
          "execution_count": 33
        }
      ]
    },
    {
      "cell_type": "code",
      "source": [
        "a=\"Akshay\"\n",
        "print (a[1])\n",
        "print (a[-1])\n",
        "print (a[:1])\n",
        "print (a[0:2])\n",
        "print (a[2:5])\n",
        "print (a[:4])"
      ],
      "metadata": {
        "colab": {
          "base_uri": "https://localhost:8080/"
        },
        "id": "IvlfSptJTAOs",
        "outputId": "a57c051f-3aa2-42fc-a6dd-fb68d99e2e87"
      },
      "execution_count": null,
      "outputs": [
        {
          "output_type": "stream",
          "name": "stdout",
          "text": [
            "k\n",
            "y\n",
            "A\n",
            "Ak\n",
            "sha\n",
            "Aksh\n"
          ]
        }
      ]
    },
    {
      "cell_type": "code",
      "source": [
        "z=\"Sarin CR\"\n",
        "print (z[:5])\n",
        "print (z[6:])"
      ],
      "metadata": {
        "colab": {
          "base_uri": "https://localhost:8080/"
        },
        "id": "SR3LPo_4TZJz",
        "outputId": "8d3ff0e5-9aa1-4aa2-f1c5-32c43fd85363"
      },
      "execution_count": null,
      "outputs": [
        {
          "output_type": "stream",
          "name": "stdout",
          "text": [
            "Sarin\n",
            "CR\n"
          ]
        }
      ]
    },
    {
      "cell_type": "code",
      "source": [
        "x=\"Hello World\"\n",
        "print(x.upper())"
      ],
      "metadata": {
        "id": "qBPUM3PxWE6n",
        "colab": {
          "base_uri": "https://localhost:8080/"
        },
        "outputId": "6afb8408-dd79-411d-a73c-2fb4b1d64a04"
      },
      "execution_count": 45,
      "outputs": [
        {
          "output_type": "stream",
          "name": "stdout",
          "text": [
            "HELLO WORLD\n"
          ]
        }
      ]
    },
    {
      "cell_type": "code",
      "source": [
        "x=\"Hello World\"\n",
        "print(x.replace(\"H\",\"J\"))"
      ],
      "metadata": {
        "colab": {
          "base_uri": "https://localhost:8080/"
        },
        "id": "d7d_EdzQaRQc",
        "outputId": "d3d3d8c9-46ea-4b6a-b446-ae0fdbd7ff66"
      },
      "execution_count": 46,
      "outputs": [
        {
          "output_type": "stream",
          "name": "stdout",
          "text": [
            "Jello World\n"
          ]
        }
      ]
    },
    {
      "cell_type": "code",
      "source": [
        "x=\"Hello World\"\n",
        "print(x.lower())"
      ],
      "metadata": {
        "colab": {
          "base_uri": "https://localhost:8080/"
        },
        "id": "3rOnXkkvafY9",
        "outputId": "bff6c306-0510-4704-8b72-05a7c0d4c71f"
      },
      "execution_count": 47,
      "outputs": [
        {
          "output_type": "stream",
          "name": "stdout",
          "text": [
            "hello world\n"
          ]
        }
      ]
    },
    {
      "cell_type": "code",
      "source": [
        "x=\"Akshay\"\n",
        "print(x.index(\"A\"))"
      ],
      "metadata": {
        "colab": {
          "base_uri": "https://localhost:8080/"
        },
        "id": "Swyup7FFasm3",
        "outputId": "94a54a91-16a4-4743-fb1d-4f418104a344"
      },
      "execution_count": 49,
      "outputs": [
        {
          "output_type": "stream",
          "name": "stdout",
          "text": [
            "0\n"
          ]
        }
      ]
    },
    {
      "cell_type": "code",
      "source": [
        "print(x.startswith(\"s\"))"
      ],
      "metadata": {
        "colab": {
          "base_uri": "https://localhost:8080/"
        },
        "id": "GLqaLd2dbEKD",
        "outputId": "c0526c00-7a35-4dbd-f3a6-a91c2102d10a"
      },
      "execution_count": 50,
      "outputs": [
        {
          "output_type": "stream",
          "name": "stdout",
          "text": [
            "False\n"
          ]
        }
      ]
    },
    {
      "cell_type": "code",
      "source": [
        "print(x.startswith(\"a\"))"
      ],
      "metadata": {
        "colab": {
          "base_uri": "https://localhost:8080/"
        },
        "id": "N0z9SnGub2Wy",
        "outputId": "8d78256a-7be9-414c-96f8-5e050674853b"
      },
      "execution_count": 51,
      "outputs": [
        {
          "output_type": "stream",
          "name": "stdout",
          "text": [
            "False\n"
          ]
        }
      ]
    },
    {
      "cell_type": "code",
      "source": [
        "x=\"Akshay\"\n",
        "print(x.startswith(\"s.3.20\"))"
      ],
      "metadata": {
        "colab": {
          "base_uri": "https://localhost:8080/"
        },
        "id": "4K82tpZ7cIP0",
        "outputId": "1c6d01d3-0733-4aa6-a5ac-0b6362c7daa8"
      },
      "execution_count": 52,
      "outputs": [
        {
          "output_type": "stream",
          "name": "stdout",
          "text": [
            "False\n"
          ]
        }
      ]
    },
    {
      "cell_type": "code",
      "source": [
        "x=\"Goodbye with World\"\n",
        "print(x.partition(\"with\"))"
      ],
      "metadata": {
        "colab": {
          "base_uri": "https://localhost:8080/"
        },
        "id": "P6O0KLqpcro7",
        "outputId": "e84c7d8e-11db-4d84-f1cd-90530de62947"
      },
      "execution_count": 54,
      "outputs": [
        {
          "output_type": "stream",
          "name": "stdout",
          "text": [
            "('Goodbye ', 'with', ' World')\n"
          ]
        }
      ]
    },
    {
      "cell_type": "code",
      "source": [],
      "metadata": {
        "id": "M19C1UoQdOs_"
      },
      "execution_count": null,
      "outputs": []
    }
  ]
}